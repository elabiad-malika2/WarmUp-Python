{
 "cells": [
  {
   "cell_type": "code",
   "execution_count": 5,
   "id": "427ee52f",
   "metadata": {},
   "outputs": [
    {
     "data": {
      "text/plain": [
       "[1, 2, 3, 4, 6, 6]"
      ]
     },
     "execution_count": 5,
     "metadata": {},
     "output_type": "execute_result"
    }
   ],
   "source": [
    "def fusion_liste(liste1,liste2):\n",
    "     liste1.extend(liste2)\n",
    "     fusion=[]\n",
    "     fusion.extend(list1)\n",
    "     return sorted(fusion)\n",
    "list1=[1,6,3]\n",
    "list2=[4,6,2]\n",
    "fusion_liste(list1,list2)"
   ]
  }
 ],
 "metadata": {
  "kernelspec": {
   "display_name": "Python 3",
   "language": "python",
   "name": "python3"
  },
  "language_info": {
   "codemirror_mode": {
    "name": "ipython",
    "version": 3
   },
   "file_extension": ".py",
   "mimetype": "text/x-python",
   "name": "python",
   "nbconvert_exporter": "python",
   "pygments_lexer": "ipython3",
   "version": "3.13.7"
  }
 },
 "nbformat": 4,
 "nbformat_minor": 5
}
