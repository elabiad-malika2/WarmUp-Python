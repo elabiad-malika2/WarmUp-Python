{
 "cells": [
  {
   "cell_type": "markdown",
   "id": "784cad32",
   "metadata": {},
   "source": [
    "\n",
    "<center>\n",
    "<H1><span style=\"text-align: center; font-weight: bold; color: #746bb3ff;\">Gestion de Fichiers</span></H1>\n",
    "</center>"
   ]
  },
  {
   "cell_type": "markdown",
   "id": "00451f59",
   "metadata": {},
   "source": [
    "<H3><span style=\"font-weight: bold ; color: #19b7f1ff\">Les ressources: </span></H3> \n",
    "\n",
    "* [Documentation Officielle de Python](https://docs.python.org/fr/3/tutorial/inputoutput.html#reading-and-writing-files)\n",
    "* [Reading and Writing Files in Python](https://realpython.com/read-write-files-python/)"
   ]
  },
  {
   "cell_type": "markdown",
   "id": "3d2ea4b9",
   "metadata": {},
   "source": [
    "<H3><span style=\"font-weight: bold; color: #1a8bcdff;\">Challenge 1 : Extraction et Traitement de Fichiers</span></H3>\n",
    "\n",
    "1. <span style=\"font-weight: bold; color: #e56922ff;\">Objectif</span> : </br>\n",
    "Lire plusieurs fichiers texte et combiner leur contenu.\n",
    "\n",
    "2. <span style=\"font-weight: bold; color: #e56922ff;\">Travail à faire</span>:</br>\n",
    "* Utilisez os.listdir() pour lister tous les fichiers texte dans un répertoire.\n",
    "* Utilisez open() pour lire chaque fichier et extraire son contenu.\n",
    "* Combinez le contenu de tous les fichiers en un seul texte."
   ]
  },
  {
   "cell_type": "code",
   "execution_count": null,
   "id": "21b6f2cb",
   "metadata": {},
   "outputs": [],
   "source": [
    "\n",
    "import os \n",
    "\n",
    "repertoire = r\"C:\\Users\\elabi\\OneDrive\\Desktop\\Challenge\\WarmUp\"\n",
    "contenue = os.listdir(repertoire)\n",
    "\n",
    "for fichier in contenue:\n",
    "    chemin_complet = os.path.join(repertoire, fichier)\n",
    "    nouveauChemin=os.path.join(repertoire,\"fichier.text\")\n",
    "\n",
    "    if os.path.isfile(chemin_complet):\n",
    "        print(f\"--- Lecture de {fichier} ---\")\n",
    "        with open(chemin_complet, 'r', encoding='utf-8') as fichiers:\n",
    "            contenu += fichiers.read()\n",
    "            print(contenu)\n",
    "        with open(nouveauChemin,'w',encoding='utf-8') as newPath:\n",
    "            newPath.write(contenu)\n",
    "    else:\n",
    "        print(f\"--- Ignoré (ce n'est pas un fichier) : {fichier} ---\")\n",
    "\n"
   ]
  },
  {
   "cell_type": "markdown",
   "id": "5240bc4e",
   "metadata": {},
   "source": [
    "<H3><span style=\"font-weight: bold; color: #1a8bcdff;\">Challenge 2 : Recherche de Fichiers</span></H3>\n",
    "\n",
    "1. <span style=\"font-weight: bold; color: #e56922ff;\">Objectif</span> : </br>\n",
    "Vérifier l'existence de fichiers spécifiques et les traiter.\n",
    "\n",
    "2. <span style=\"font-weight: bold; color: #e56922ff;\">Travail à faire</span>:</br>\n",
    "* Utilisez os.path.exists() pour vérifier si des fichiers de configuration (config.yaml) existent dans un répertoire donné.\n",
    "* Si le fichier existe, ouvrez-le et affichez son contenu."
   ]
  },
  {
   "cell_type": "code",
   "execution_count": null,
   "id": "fa5797e7",
   "metadata": {},
   "outputs": [],
   "source": [
    "import os\n",
    "\n",
    "file_path = \"Fonctions.ipynb\"\n",
    "if os.path.exists(file_path):\n",
    "    print(f\"The file '{file_path}' exists.\")\n",
    "    with open(file_path,'r',encoding='utf-8') as file :\n",
    "        f=file.read()\n",
    "        print(f)\n",
    "else:\n",
    "    print(f\"The file '{file_path}' does not exist.\")"
   ]
  },
  {
   "cell_type": "markdown",
   "id": "c9850348",
   "metadata": {},
   "source": [
    "<H3><span style=\"font-weight: bold; color: #1a8bcdff;\">Challenge 4 : Création de Répertoires</span></H3>\n",
    "\n",
    "1. <span style=\"font-weight: bold; color: #e56922ff;\">Objectif</span> : </br>\n",
    "Créer une structure de répertoires à partir d'une liste de noms.\n",
    "\n",
    "2. <span style=\"font-weight: bold; color: #e56922ff;\">Travail à faire</span>:</br>\n",
    "* Utilisez os.mkdir() pour créer un répertoire principal.\n",
    "* Créez plusieurs sous-répertoires à l'intérieur du répertoire principal en utilisant une liste de noms."
   ]
  },
  {
   "cell_type": "code",
   "execution_count": 33,
   "id": "07f28968",
   "metadata": {},
   "outputs": [
    {
     "name": "stdout",
     "output_type": "stream",
     "text": [
      "repertoire deja cree\n"
     ]
    }
   ],
   "source": [
    "import os\n",
    "repertoire=\"new_floder\" \n",
    "liste=[\"folder1\",\"folder2\",\"folder3\",\"folder4\"]\n",
    "if os.path.exists(repertoire):\n",
    "    print(\"repertoire deja cree\")\n",
    "else :\n",
    "    os.mkdir(repertoire)\n",
    "for i in liste:\n",
    "    if os.path.exists(\"/new_floder/\"+i):\n",
    "        print(f\"repertoire {i} deja cree\")\n",
    "    else:\n",
    "        os.mkdir(\"new_floder/\"+i)"
   ]
  },
  {
   "cell_type": "markdown",
   "id": "70d5c0f1",
   "metadata": {},
   "source": [
    "<H3><span style=\"font-weight: bold; color: #1a8bcdff;\">Challenge 5 : Copie Sélective de Fichiers</span></H3>\n",
    "\n",
    "1. <span style=\"font-weight: bold; color: #e56922ff;\">Objectif</span> : </br>\n",
    "Copier des fichiers spécifiques d'un répertoire à un autre.\n",
    "\n",
    "2. <span style=\"font-weight: bold; color: #e56922ff;\">Travail à faire</span>:</br>\n",
    "* Utilisez os.listdir() pour lister tous les fichiers dans un répertoire source.\n",
    "* Utilisez shutil.copy() pour copier uniquement les fichiers avec une extension spécifique (par exemple, .csv) vers un répertoire de destination."
   ]
  },
  {
   "cell_type": "code",
   "execution_count": 48,
   "id": "d723fec4",
   "metadata": {},
   "outputs": [
    {
     "name": "stdout",
     "output_type": "stream",
     "text": [
      ".git\n",
      "Dictionnaires_Tuples.ipynb\n",
      "fichier.text\n",
      "Fichiers.ipynb\n",
      "Fonctions.ipynb\n",
      "Les_Bases.ipynb\n",
      "Listes.ipynb\n",
      "new_floder\n",
      "README.md\n",
      "************************Extension***********************************\n",
      "fichier.text\n",
      "Copié : fichier.text\n"
     ]
    }
   ],
   "source": [
    "import os\n",
    "import shutil\n",
    "repertoire = r\"C:\\Users\\elabi\\OneDrive\\Desktop\\Challenge\\WarmUp\"\n",
    "repertoiredes= r\"C:\\Users\\elabi\\OneDrive\\Desktop\\Challenge\\WarmUp\\new_floder\"\n",
    "\n",
    "contenu=os.listdir(repertoire)\n",
    "for i in contenu :\n",
    "    print(i)\n",
    "\n",
    "for i in contenu :\n",
    "    splitText=os.path.splitext(i)\n",
    "    extension=splitText[-1]\n",
    "    if extension == \".text\":\n",
    "        print(\"************************Extension***********************************\")\n",
    "        print(i)\n",
    "        chemin_source=os.path.join(repertoire,i)\n",
    "        chemin_destination=os.path.join(repertoiredes,i)\n",
    "        shutil.copy(chemin_source,chemin_destination)\n",
    "        print(f\"Copié : {i}\")\n",
    "\n",
    "\n",
    "    \n",
    "    "
   ]
  },
  {
   "cell_type": "markdown",
   "id": "860b9d43",
   "metadata": {},
   "source": [
    "<H3><span style=\"font-weight: bold; color: #1a8bcdff;\">Challenge 6 : Écriture de Fichiers</span></H3>\n",
    "\n",
    "1. <span style=\"font-weight: bold; color: #e56922ff;\">Objectif</span> : </br>\n",
    "Écrire du contenu dans un fichier texte.\n",
    "\n",
    "2. <span style=\"font-weight: bold; color: #e56922ff;\">Travail à faire</span>:</br>\n",
    "* Utilisez open() en mode écriture pour créer un nouveau fichier texte.\n",
    "* Écrivez des lignes de texte dans le fichier en utilisant une boucle.\n",
    "* Fermez le fichier et vérifiez que les données ont été correctement enregistrées."
   ]
  },
  {
   "cell_type": "code",
   "execution_count": null,
   "id": "bacbe689",
   "metadata": {},
   "outputs": [],
   "source": [
    "import os \n"
   ]
  },
  {
   "cell_type": "markdown",
   "id": "27cd8680",
   "metadata": {},
   "source": []
  }
 ],
 "metadata": {
  "kernelspec": {
   "display_name": "Python 3",
   "language": "python",
   "name": "python3"
  },
  "language_info": {
   "codemirror_mode": {
    "name": "ipython",
    "version": 3
   },
   "file_extension": ".py",
   "mimetype": "text/x-python",
   "name": "python",
   "nbconvert_exporter": "python",
   "pygments_lexer": "ipython3",
   "version": "3.13.7"
  }
 },
 "nbformat": 4,
 "nbformat_minor": 5
}
