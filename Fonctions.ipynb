{
 "cells": [
  {
   "cell_type": "markdown",
   "id": "21dfa672",
   "metadata": {},
   "source": [
    "<center>\n",
    "<H1><span style=\"text-align: center; font-weight: bold; color: #746bb3ff;\">Les Fonctions</span></H1>\n",
    "</center>"
   ]
  },
  {
   "cell_type": "markdown",
   "id": "4280dbf3",
   "metadata": {},
   "source": [
    "<H3><span style=\"font-weight: bold ; color: #19b7f1ff\">Les ressources: </span></H3> \n",
    "\n",
    "\n",
    "* [Python Functions](https://realpython.com/defining-your-own-python-function/#abstraction)\n",
    "* [Documentation Officielle de Python](https://docs.python.org/fr/3/tutorial/controlflow.html#defining-functions)"
   ]
  },
  {
   "cell_type": "markdown",
   "id": "e83d584f",
   "metadata": {},
   "source": [
    "<H3><span style=\"font-weight: bold; color: #1a8bcdff;\">Challenge 1 : Présentation personnalisé</span></H3>\n",
    "\n",
    "1. <span style=\"font-weight: bold; color: #e56922ff;\">Objectif</span> : </br>\n",
    "Réutiliser un programme existant (Challenge 2) en le structurant dans une fonction nommée horaire_sup.\n",
    "\n",
    "2. <span style=\"font-weight: bold; color: #e56922ff;\">Travail à faire</span>:</br>\n",
    "Réécris le programme du Challenge 2 dans une fonction appelée horaire_sup."
   ]
  },
  {
   "cell_type": "code",
   "execution_count": 2,
   "id": "b3439d44",
   "metadata": {},
   "outputs": [
    {
     "name": "stdout",
     "output_type": "stream",
     "text": [
      "Votre salaire est :  4300.0\n"
     ]
    }
   ],
   "source": [
    "def horaire_sup(nbrHr,shr):\n",
    "    if nbrHr > 40 :\n",
    "        hrA = nbrHr - 40\n",
    "        remun = hrA * shr * 1.5\n",
    "        salaireReg = (shr * 40) + remun\n",
    "        print(\"Votre salaire est : \" ,salaireReg)\n",
    "    else :\n",
    "        salaireReg = shr * nbrHr\n",
    "        print(\"Votre salaire est : \" ,salaireReg)\n",
    "horaire_sup(42,100)"
   ]
  },
  {
   "cell_type": "markdown",
   "id": "77631c7d",
   "metadata": {},
   "source": [
    "<H3><span style=\"font-weight: bold; color: #1a8bcdff;\">Challenge 2 : Fonction calculation() – somme et différence</span></H3>\n",
    "\n",
    "1. <span style=\"font-weight: bold; color: #e56922ff;\">Objectif</span> : </br>\n",
    "Apprendre à écrire une fonction avec plusieurs paramètres et plusieurs valeurs de retour.\n",
    "\n",
    "2. <span style=\"font-weight: bold; color: #e56922ff;\">Travail à faire</span>:</br>\n",
    "Écris une fonction calculation() qui prend deux arguments et calcule leur somme ainsi que leur différence. La fonction doit ensuite retourner les deux résultats dans une seule instruction return."
   ]
  },
  {
   "cell_type": "code",
   "execution_count": 3,
   "id": "323a8b4a",
   "metadata": {},
   "outputs": [
    {
     "data": {
      "text/plain": [
       "(9, 1)"
      ]
     },
     "execution_count": 3,
     "metadata": {},
     "output_type": "execute_result"
    }
   ],
   "source": [
    "def calculation(a,b):\n",
    "    somme = a+b\n",
    "    different = a-b\n",
    "    return somme,different\n",
    "calculation(5,4)"
   ]
  },
  {
   "cell_type": "markdown",
   "id": "c2081304",
   "metadata": {},
   "source": [
    "<H3><span style=\"font-weight: bold; color: #1a8bcdff;\">Challenge 3 : Mini-projets algorithmiques regroupés</span></H3>\n",
    "\n",
    "1. <span style=\"font-weight: bold; color: #e56922ff;\">Objectif</span> : </br>\n",
    "Développer plusieurs petites fonctions indépendantes, chacune ciblant une compétence précise\n",
    "\n",
    "2. <span style=\"font-weight: bold; color: #e56922ff;\">Travail à faire</span>:</br>\n",
    "- Demander à l’utilisateur de saisir un nombre entier n et afficher la factorielle de ce nombre (n!).\n",
    "- Demander à l’utilisateur un nombre entier m et afficher sa table de multiplication de 1 à 10.\n",
    "- Demander à l’utilisateur un nombre entier L et indiquer s’il s’agit d’un carré parfait.\n",
    "- Demander une chaîne de caractères à l’utilisateur, puis afficher chaque caractère un par un.\n",
    "- Demander une phrase à l’utilisateur et afficher le mot le plus long de cette phrase.\n",
    "- Demander une chaîne de caractères Ch et afficher le nombre d’occurrences de chaque caractère. Exemple : Pour Ch = “artificial intelligence developer” \n",
    "- Le programme doit afficher : Le caractère \"i\" figure 5 fois dans la chaîne Ch."
   ]
  },
  {
   "cell_type": "code",
   "execution_count": null,
   "id": "a06adf5c",
   "metadata": {},
   "outputs": [
    {
     "name": "stdout",
     "output_type": "stream",
     "text": [
      "m\n",
      "a\n",
      "l\n",
      "i\n",
      "k\n",
      "a\n",
      "Le mot le plus long est : intelligence avec une longueur de 12\n",
      "{'a': 2, 'r': 2, 't': 2, 'i': 5, 'f': 1, 'c': 2, 'l': 4, ' ': 2, 'n': 2, 'e': 6, 'g': 1, 'd': 1, 'v': 1, 'o': 1, 'p': 1}\n"
     ]
    }
   ],
   "source": [
    "import math ;\n",
    "    # Factorielle\n",
    "def factorielle(n):\n",
    "    i=1\n",
    "    fact=1\n",
    "    while i <= n:\n",
    "        fact*=i\n",
    "        i+=1\n",
    "    return fact   \n",
    "factorielle(3) \n",
    "\n",
    "    # Multiplication \n",
    "def multip(m):\n",
    "    i=1\n",
    "    while i <= 10:\n",
    "        print(f\"{i}*{m} = {i*m}\") \n",
    "        i+=1\n",
    "    \n",
    "multip(2)\n",
    "\n",
    "    # Carré parfait\n",
    "def carre(L):\n",
    "    c=math.sqrt(L)\n",
    "    cInt=int(c)\n",
    "    if c-cInt == 0 :\n",
    "        return \"carre parfait\"\n",
    "    else :\n",
    "        return \"carre non parfait\"\n",
    "carre(5)\n",
    "\n",
    "    # chaine caractere un par un\n",
    "def chaine(ch):\n",
    "    for charctere in ch:\n",
    "        print(charctere)\n",
    "chaine(\"malika\")\n",
    "\n",
    "    # le mot le plus long\n",
    "def long(chaine):\n",
    "    L = chaine.split()\n",
    "    max = \"\"\n",
    "    \n",
    "    for mot in L:\n",
    "        if len(mot) > len(max):\n",
    "            max = mot\n",
    "    \n",
    "    print(\"Le mot le plus long est :\", max, \"avec une longueur de\", len(max))\n",
    "\n",
    "\n",
    "long(\"artificial intelligence developer\")\n",
    "\n",
    "    # Occurence de chaque caractere dans une chaine de caractere\n",
    "def occu(ch):\n",
    "    occurrences = {}\n",
    "    \n",
    "    for char in ch:\n",
    "        if char in occurrences:\n",
    "            occurrences[char] += 1\n",
    "        else:\n",
    "            occurrences[char] = 1\n",
    "    print(occurrences)\n",
    "occu(\"artificial intelligence developer\")\n",
    "\n",
    "\n",
    "    \n",
    "    \n",
    "  \n",
    "\n",
    "\n",
    "\n",
    "    \n",
    "\n"
   ]
  }
 ],
 "metadata": {
  "kernelspec": {
   "display_name": "Python 3",
   "language": "python",
   "name": "python3"
  },
  "language_info": {
   "codemirror_mode": {
    "name": "ipython",
    "version": 3
   },
   "file_extension": ".py",
   "mimetype": "text/x-python",
   "name": "python",
   "nbconvert_exporter": "python",
   "pygments_lexer": "ipython3",
   "version": "3.13.7"
  }
 },
 "nbformat": 4,
 "nbformat_minor": 5
}
