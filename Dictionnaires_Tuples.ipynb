{
 "cells": [
  {
   "cell_type": "markdown",
   "id": "914e84e2",
   "metadata": {},
   "source": [
    "<center>\n",
    "<H1><span style=\"text-align: center; font-weight: bold; color: #746bb3ff;\">Les Dictionnaires & Tuples</span></H1>\n",
    "</center>"
   ]
  },
  {
   "cell_type": "markdown",
   "id": "4904b5d8",
   "metadata": {},
   "source": [
    "<H3><span style=\"font-weight: bold ; color: #19b7f1ff\">Les ressources: </span></H3> \n",
    "\n",
    "**Documentation Officielle** : \n",
    "* [Dictionnaires](https://docs.python.org/fr/3/tutorial/datastructures.html#dictionaries) \n",
    "* [Tuples](https://docs.python.org/fr/3/tutorial/datastructures.html#tuples-and-sequences)"
   ]
  },
  {
   "cell_type": "markdown",
   "id": "6ba65839",
   "metadata": {},
   "source": [
    "<H3><span style=\"font-weight: bold; color: #1a8bcdff;\">Challenge 1 : Manipulation des dictionnaires Python</span></H3>\n",
    "\n",
    "1. <span style=\"font-weight: bold; color: #e56922ff;\">Objectif</span> : </br>\n",
    "Apprendre à manipuler des dictionnaires en Python à travers plusieurs opérations clés\n",
    "\n",
    "2. <span style=\"font-weight: bold; color: #e56922ff;\">Travail à faire</span>:</br>\n",
    "Considérons le dictionnaire suivant :\n",
    "\n",
    "<code>\n",
    "First_dict = { \"Appareil\": \"Laptop\", \"Marque\": \"IBM\", \"Carte mère\": \"MSI Z490\", \"Carte Graphique\":\"GeForce RTX 3070\", \"RAM\": \"16G\", \"Processeur\": \"Intel core i7-G11\", \"SSD\": \"1 To\" }    </code>\n",
    "\n",
    "- *Parti 1:* Écris un programme Python qui effectue les opérations suivantes :\n",
    "\n",
    "1. Corriger la valeur associée à la clé \"RAM\" pour qu’elle devienne \"32G\".\n",
    "\n",
    "2. Afficher successivement :\n",
    "\n",
    "3. La liste des clés du dictionnaire\n",
    "\n",
    "4. La liste des valeurs\n",
    "\n",
    "5. La liste des paires clé-valeur\n",
    "\n",
    "6. Inverser les paires \"Processeur\" : \"Intel core i7-G11\" et \"Carte Graphique\" : \"GeForce RTX 3070\"\n",
    "\n",
    "7. Ajouter la paire clé-valeur suivante : \"Système d’exploitation\": \"Windows 10\"\n",
    "\n",
    "- *Parti 2:* On considère le dictionnaire suivant dont les clés sont les noms des élèves et les valeurs des clés sont les moyennes générales obtenues en passant l’examen final.\n",
    "\n",
    "<code>notes_eleves = { \"Amine\": 15.5, \"Yassine\": 19.0, \"Reda\": 14.2, \"Malak\": 8.7, \"Manal\": 20.0, \"Ahmed\": 7.5,\"Saad\": 11.3, \"Hannae\": 9.8 }</code>\n",
    "\n",
    "Écrire un programme Python qui partitionne ce dictionnaire en deux sous dictionnaires :\n",
    "\n",
    "* etudiantAdmis dont les clés sont les étudiants admis et les valeurs des clés sont les moyennes obtenues (moyenne supérieures ou égales à 10 ).\n",
    "\n",
    "* etudiantNonAdmis dont les clés sont les étudiants non admis et les valeurs des clés sont les moyennes obtenues (moyenne inférieur ou égale à 10). "
   ]
  },
  {
   "cell_type": "code",
   "execution_count": 10,
   "id": "0fc954a1",
   "metadata": {},
   "outputs": [
    {
     "name": "stdout",
     "output_type": "stream",
     "text": [
      "Appareil:Laptop\n",
      "Marque:IBM\n",
      "Carte mère:MSI Z490\n",
      "Carte Graphique:GeForce RTX 3070\n",
      "RAM:32G\n",
      "Processeur:Intel core i7-G11\n",
      "SSD:1 To\n",
      "{'Appareil': 'Laptop', 'Marque': 'IBM', 'Carte mère': 'MSI Z490', 'Carte Graphique': 'GeForce RTX 3070', 'RAM': '32G', 'Processeur': 'Intel core i7-G11', 'SSD': '1 To', 'Système d’exploitation': 'Windows 10'}\n"
     ]
    }
   ],
   "source": [
    "First_dict = { \"Appareil\": \"Laptop\", \"Marque\": \"IBM\", \"Carte mère\": \"MSI Z490\",\n",
    "               \"Carte Graphique\":\"GeForce RTX 3070\", \"RAM\": \"16G\",\n",
    "               \"Processeur\": \"Intel core i7-G11\", \"SSD\": \"1 To\" } \n",
    "    # ex1\n",
    "First_dict[\"RAM\"]=\"32G\"\n",
    "\n",
    "    # ex2 et 3\n",
    "# for k in First_dict:\n",
    "#     print(k)\n",
    "#     print(First_dict[k])\n",
    "\n",
    "    # ex 4\n",
    "for key , value in First_dict.items():\n",
    "    print(f\"{key}:{value}\")\n",
    "\n",
    "    #  ex 5\n",
    "     \n",
    "    #  ex 6\n",
    "First_dict[\"Système d’exploitation\"]=\"Windows 10\"\n",
    "        \n",
    "\n",
    "print(First_dict)"
   ]
  },
  {
   "cell_type": "code",
   "execution_count": 16,
   "id": "c50b65e4",
   "metadata": {},
   "outputs": [
    {
     "name": "stdout",
     "output_type": "stream",
     "text": [
      "{'Amine': 15.5, 'Yassine': 19.0, 'Reda': 14.2, 'Manal': 20.0, 'Saad': 11.3} {'Malak': 8.7, 'Ahmed': 7.5, 'Hannae': 9.8}\n"
     ]
    }
   ],
   "source": [
    "notes_eleves = { \"Amine\": 15.5, \"Yassine\": 19.0, \"Reda\": 14.2, \"Malak\": 8.7, \"Manal\": 20.0, \"Ahmed\": 7.5,\"Saad\": 11.3, \"Hannae\": 9.8 }\n",
    "etudiantsAdmis={}\n",
    "etudiantsNonAdmis={}\n",
    "for k in notes_eleves:\n",
    "    if notes_eleves[k] >= 10 :\n",
    "        etudiantsAdmis[k]=notes_eleves[k]\n",
    "    else:\n",
    "        etudiantsNonAdmis[k]=notes_eleves[k]\n",
    "print(etudiantsAdmis,etudiantsNonAdmis)\n",
    "\n",
    "\n",
    "\n",
    "\n",
    "\n",
    "\n",
    "\n",
    "\n",
    "\n"
   ]
  },
  {
   "cell_type": "markdown",
   "id": "7ab8effa",
   "metadata": {},
   "source": [
    "<H3><span style=\"font-weight: bold; color: #1a8bcdff;\">Challenge 2 : Mise à Jour de Dictionnaires</span></H3>\n",
    "\n",
    "1. <span style=\"font-weight: bold; color: #e56922ff;\">Objectif</span> : </br>\n",
    "Fusionner plusieurs dictionnaires en un seul.\n",
    "\n",
    "2. <span style=\"font-weight: bold; color: #e56922ff;\">Travail à faire</span>:</br>\n",
    "* Utilisez update() pour fusionner trois dictionnaires différents.\n",
    "* Affichez le dictionnaire final avec toutes les clés et valeurs combinées.\n"
   ]
  },
  {
   "cell_type": "code",
   "execution_count": 22,
   "id": "85cd8892",
   "metadata": {},
   "outputs": [
    {
     "name": "stdout",
     "output_type": "stream",
     "text": [
      "Dictionnaire fusionné : {'nom': 'Malika', 'age': 21, 'pays': 'Maroc', 'formation': 'Développement digital'}\n"
     ]
    }
   ],
   "source": [
    "dict1 = {\"nom\": \"Malika\", \"age\": 22}\n",
    "dict2 = {\"pays\": \"Maroc\"}\n",
    "dict3 = {\"formation\": \"Développement digital\"}\n",
    "\n",
    "resultat = dict1.copy()   \n",
    "resultat.update(dict2)    \n",
    "resultat.update(dict3)   \n",
    "\n",
    "print(\"Dictionnaire fusionné :\", resultat)\n"
   ]
  },
  {
   "cell_type": "markdown",
   "id": "c5dd1c26",
   "metadata": {},
   "source": [
    "<H3><span style=\"font-weight: bold; color: #1a8bcdff;\">Challenge 3 : Conversion de Deux Listes en Dictionnaire</span></H3>\n",
    "\n",
    "1. <span style=\"font-weight: bold; color: #e56922ff;\">Objectif</span> : </br>\n",
    "Créer un dictionnaire à partir de deux listes (une pour les clés, une pour les valeurs).\n",
    "\n",
    "2. <span style=\"font-weight: bold; color: #e56922ff;\">Travail à faire</span>:</br>\n",
    "* Utilisez zip() pour combiner les deux listes.\n",
    "* Convertissez le résultat en dictionnaire.\n",
    "* Affichez le dictionnaire créé.\n",
    "\n"
   ]
  },
  {
   "cell_type": "code",
   "execution_count": 24,
   "id": "2663dae7",
   "metadata": {},
   "outputs": [
    {
     "name": "stdout",
     "output_type": "stream",
     "text": [
      "{'nom': 'Malika', 'prenom': 'EL ABIAD', 'age': 22, 'formation': 'YOUCODE'}\n"
     ]
    }
   ],
   "source": [
    "key=[\"nom\",\"prenom\",\"age\",\"formation\"]\n",
    "value=[\"Malika\",\"EL ABIAD\",22,\"YOUCODE\"]\n",
    "dictionnaire=dict(zip(key,value))\n",
    "print(dictionnaire)"
   ]
  },
  {
   "cell_type": "markdown",
   "id": "b64cf938",
   "metadata": {},
   "source": [
    "\n",
    "<H3><span style=\"font-weight: bold; color: #1a8bcdff;\">Challenge 4 : Tri d'un Dictionnaire</span></H3>\n",
    "\n",
    "1. <span style=\"font-weight: bold; color: #e56922ff;\">Objectif</span> : </br>\n",
    "Trier un dictionnaire selon ses valeurs.\n",
    "\n",
    "2. <span style=\"font-weight: bold; color: #e56922ff;\">Travail à faire</span>:</br>\n",
    "* Utilisez items() pour obtenir les paires clé-valeur.\n",
    "* Triez ces paires par valeur.\n",
    "* Créez un nouveau dictionnaire à partir des paires triées.\n",
    "\n"
   ]
  },
  {
   "cell_type": "code",
   "execution_count": null,
   "id": "09480797",
   "metadata": {},
   "outputs": [
    {
     "name": "stdout",
     "output_type": "stream",
     "text": [
      "[('Amine', 15.5), ('Yassine', 19.0), ('Reda', 14.2), ('Malak', 8.7), ('Manal', 20.0), ('Ahmed', 7.5), ('Saad', 11.3), ('Hannae', 9.8)]\n",
      "Manal : 20.0\n",
      "Yassine : 19.0\n",
      "Amine : 15.5\n",
      "Reda : 14.2\n",
      "Saad : 11.3\n",
      "Hannae : 9.8\n",
      "Malak : 8.7\n",
      "Ahmed : 7.5\n",
      "{'Manal': 20.0, 'Yassine': 19.0, 'Amine': 15.5, 'Reda': 14.2, 'Saad': 11.3, 'Hannae': 9.8, 'Malak': 8.7, 'Ahmed': 7.5}\n"
     ]
    }
   ],
   "source": [
    "notes = { \"Amine\": 15.5, \"Yassine\": 19.0, \"Reda\": 14.2, \"Malak\": 8.7, \"Manal\": 20.0, \"Ahmed\": 7.5,\"Saad\": 11.3, \"Hannae\": 9.8 }\n",
    "items=list(notes.items())\n",
    "print(items)\n",
    "\n",
    "for i in range(len(items)):\n",
    "    for j in range(i+1, len(items)):\n",
    "        if items[j][1] > items[i][1]:\n",
    "            temp = items[i]\n",
    "            items[i] = items[j]\n",
    "            items[j] = temp\n",
    "for nom , notes in items:\n",
    "    print(f\"{nom} : {notes}\")\n",
    "trie=dict(items)\n",
    "print(trie)"
   ]
  },
  {
   "cell_type": "markdown",
   "id": "2c429ffc",
   "metadata": {},
   "source": [
    "\n",
    "<H3><span style=\"font-weight: bold; color: #1a8bcdff;\">Challenge 5 : Manipulation de tuples </span></H3>\n",
    "\n",
    "1. <span style=\"font-weight: bold; color: #e56922ff;\">Objectif</span> : </br>\n",
    "Comprendre la structure des tuples, leur immutabilité, et leur utilisation pour stocker des données groupées et ordonnées.\n",
    "\n",
    "2. <span style=\"font-weight: bold; color: #e56922ff;\">Travail à faire</span>:</br>\n",
    "* Crée un tuple nommé etudiant_info contenant les informations suivantes dans cet ordre : Prénom : \"Yasmine\", Âge : 22, Filière : \"Informatique\", Moyenne générale : 17.4\n",
    "* Affiche les informations stockées dans le tuple, une par ligne, avec un texte explicite. (ex: “Prénom : Yasmine”)\n",
    "* Tente de modifier la filière dans le tuple. Que se passe-t-il ? Explique pourquoi.\n",
    "* Utilise l'opérateur de slicing pour afficher uniquement le prénom et l'âge.\n",
    "* Crée un nouveau tuple en combinant etudiant_info avec un second tuple contenant la mention \"Très Bien\" et l’année d’obtention du diplôme (2024), puis affiche le tuple final."
   ]
  },
  {
   "cell_type": "code",
   "execution_count": 68,
   "id": "1e59354d",
   "metadata": {},
   "outputs": [
    {
     "name": "stdout",
     "output_type": "stream",
     "text": [
      "'Prenom :Yasmine','Age :22','Informatique :Informatique','Moyenne générale :17.4'\n",
      "('Yasmine', 22)\n",
      "('Yasmine', 22, 'Informatique', 17.4, 'Très Bien', 2024)\n"
     ]
    }
   ],
   "source": [
    "etudiant_info = (\"Yasmine\",22,\"Informatique\",17.4)\n",
    "print(f\"'Prenom :{etudiant_info[0]}','Age :{etudiant_info[1]}','Informatique :{etudiant_info[2]}','Moyenne générale :{etudiant_info[3]}'\")\n",
    "# etudiant_info[2]=\"Economie\"\n",
    "# print(etudiant_info)\n",
    "# Ca va donner un erreur car le type est immutable\n",
    "slicing=etudiant_info[0:2]\n",
    "print(slicing)\n",
    "mention_annee = (\"Très Bien\", 2024)\n",
    "combinant=etudiant_info+mention_annee\n",
    "print(combinant)\n"
   ]
  },
  {
   "cell_type": "markdown",
   "id": "bdb88a19",
   "metadata": {},
   "source": []
  }
 ],
 "metadata": {
  "kernelspec": {
   "display_name": "Python 3",
   "language": "python",
   "name": "python3"
  },
  "language_info": {
   "codemirror_mode": {
    "name": "ipython",
    "version": 3
   },
   "file_extension": ".py",
   "mimetype": "text/x-python",
   "name": "python",
   "nbconvert_exporter": "python",
   "pygments_lexer": "ipython3",
   "version": "3.13.7"
  }
 },
 "nbformat": 4,
 "nbformat_minor": 5
}
