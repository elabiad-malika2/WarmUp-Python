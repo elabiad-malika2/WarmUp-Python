{
 "cells": [
  {
   "cell_type": "markdown",
   "id": "08fd1dc2",
   "metadata": {},
   "source": [
    "\n",
    "<center>\n",
    "<H1><span style=\"text-align: center; font-weight: bold; color: #746bb3ff;\">Les Classes</span></H1>\n",
    "</center>"
   ]
  },
  {
   "cell_type": "markdown",
   "id": "e63c58e8",
   "metadata": {},
   "source": [
    "<H3><span style=\"font-weight: bold ; color: #19b7f1ff\">Les ressources: </span></H3> \n",
    "\n",
    "\n",
    "* [Documentation Officielle](https://docs.python.org/fr/3/tutorial/classes.html)\n",
    "* [Object-Oriented Programming (OOP)](https://realpython.com/python3-object-oriented-programming/)"
   ]
  },
  {
   "cell_type": "markdown",
   "id": "c6010b61",
   "metadata": {},
   "source": [
    "\n",
    "<H3><span style=\"font-weight: bold; color: #1a8bcdff;\">Challenge 1 : Gestion d’un compte bancaire en POO</span></H3>\n",
    "\n",
    "1. <span style=\"font-weight: bold; color: #e56922ff;\">Objectif</span> : </br>\n",
    "S’initier à la programmation orientée objet avec Python à travers la création d’une classe, la manipulation des attributs et l’appel de méthodes. Ce challenge permet de comprendre l'encapsulation des données et les actions associées à un objet.\n",
    "\n",
    "2. <span style=\"font-weight: bold; color: #e56922ff;\">Travail à faire</span>:</br>\n",
    "Crée une classe CompteBancaire avec les caractéristiques suivantes :\n",
    "1. Attributs :<br>\n",
    "* nom_proprietaire (chaîne)<br>\n",
    "* solde (float, initialisé à 0.0 par défaut)<br>\n",
    "2. Méthodes :\n",
    "*  __init__() : initialise le compte avec le nom du propriétaire et un solde optionnel.\n",
    "* deposer(montant) : ajoute le montant au solde.\n",
    "* retirer(montant) : retire le montant du solde si suffisant, sinon affiche un message d’erreur.\n",
    "* afficher_solde() : affiche le nom du propriétaire et le solde actuel."
   ]
  },
  {
   "cell_type": "code",
   "execution_count": 7,
   "id": "c1fdbf5b",
   "metadata": {},
   "outputs": [
    {
     "name": "stdout",
     "output_type": "stream",
     "text": [
      "Votre montant ajouté est 200 et votre solde est 300\n",
      "Votre montant retiré est 200 et votre solde est 100\n",
      "Bonjour Malika votre solde actuel est 100\n"
     ]
    }
   ],
   "source": [
    "class CompteBancaire :\n",
    "    def __init__(self,nom,solde):\n",
    "        self.nom=nom\n",
    "        self.solde=solde\n",
    "    def deposer(self,montant):\n",
    "        self.solde=montant+self.solde\n",
    "        print(f\"Votre montant ajouté est {montant} et votre solde est {self.solde}\")\n",
    "    def retirer(self,montantR):\n",
    "        if montantR > self.solde :\n",
    "            print(\"Votre solde est insuffisant\")\n",
    "        else:\n",
    "            self.solde=self.solde-montantR\n",
    "            print(f\"Votre montant retiré est {montantR} et votre solde est {self.solde}\")\n",
    "    def afficher_solde(self):\n",
    "        print(f\"Bonjour {self.nom} votre solde actuel est {self.solde}\")\n",
    "\n",
    "p1= CompteBancaire(\"Malika\",100)\n",
    "p1.deposer(200)\n",
    "p1.retirer(200)\n",
    "p1.afficher_solde()\n",
    "\n",
    "\n",
    "        "
   ]
  },
  {
   "cell_type": "markdown",
   "id": "c72d3084",
   "metadata": {},
   "source": [
    "<H3><span style=\"font-weight: bold; color: #1a8bcdff;\">Challenge 2 : Système de gestion d’école </span></H3>\n",
    "\n",
    "1. <span style=\"font-weight: bold; color: #e56922ff;\">Objectif</span> : </br>\n",
    "Mettre en pratique les concepts fondamentaux de la POO à travers la modélisation d’un système scolaire. Ce challenge permet de manipuler les classes, l’héritage, le polymorphisme, l'encapsulation, les propriétés et les méthodes abstraites.\n",
    "\n",
    "2. <span style=\"font-weight: bold; color: #e56922ff;\">Travail à faire</span>:</br>\n",
    "* Classe abstraite Personne (à l'aide du module abc):\n",
    "1. Attributs : nom, prenom, age\n",
    "2. Méthode abstraite : afficher_infos()\n",
    "* Classe Etudiant héritée de Personne\n",
    "1. Attributs supplémentaires : matricule, notes (liste de floats)\n",
    "2. Méthodes : ajouter_note(note), moyenne(), afficher_infos() (redéfinition)\n",
    "* Classe Enseignant héritée de Personne\n",
    "1. Attributs supplémentaires : specialite, salaire\n",
    "2. Méthode afficher_infos() (redéfinition) @property et @setter pour sécuriser l’accès/modification du salaire\n",
    "* Classe Ecole\n",
    "1. Attributs : nom, liste_etudiants (liste d’objets Etudiant), liste_enseignants (liste d’objets Enseignant)\n",
    "2. Méthodes :ajouter_etudiant(etudiant), ajouter_enseignant(enseignant), afficher_tous_les_membres() (polymorphisme via afficher_infos())\n"
   ]
  },
  {
   "cell_type": "code",
   "execution_count": null,
   "id": "f81f7266",
   "metadata": {},
   "outputs": [
    {
     "name": "stdout",
     "output_type": "stream",
     "text": [
      "[1, 2, 3, 5, 6, 7, 8, 9]\n"
     ]
    }
   ],
   "source": [
    "from abc import ABC , abstractmethod\n",
    "\n",
    "class Personne(ABC):\n",
    "    @abstractmethod\n",
    "    def __init__(self,nom,prenom,age):\n",
    "        self.nom=nom\n",
    "        self.prenom=prenom\n",
    "        self.age=age\n",
    "    def afficher_info(self):\n",
    "        pass\n",
    "class Etudiant(Personne):\n",
    "    def __init__(self, nom, prenom, age,matricule,notes):\n",
    "        super().__init__(nom, prenom, age)\n",
    "        self.matricule=matricule\n",
    "        self.notes:list[float]=notes\n",
    "    def ajouter_note(self,notes):\n",
    "        for i in notes :\n",
    "            self.notes.append(i)\n",
    "        print(self.notes)\n",
    "    def moyenne()\n",
    "e=Etudiant(\"m\",\"b\",23,\"c\",[1,2,3,5])\n",
    "e.ajouter_note([6,7,8,9])\n",
    "\n",
    "    \n"
   ]
  },
  {
   "cell_type": "markdown",
   "id": "a1cbceac",
   "metadata": {},
   "source": []
  }
 ],
 "metadata": {
  "kernelspec": {
   "display_name": "Python 3",
   "language": "python",
   "name": "python3"
  },
  "language_info": {
   "codemirror_mode": {
    "name": "ipython",
    "version": 3
   },
   "file_extension": ".py",
   "mimetype": "text/x-python",
   "name": "python",
   "nbconvert_exporter": "python",
   "pygments_lexer": "ipython3",
   "version": "3.13.7"
  }
 },
 "nbformat": 4,
 "nbformat_minor": 5
}
