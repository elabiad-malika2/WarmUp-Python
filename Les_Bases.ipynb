{
 "cells": [
  {
   "cell_type": "markdown",
   "id": "6b58fb7c",
   "metadata": {},
   "source": [
    "<center>\n",
    "<H1><span style=\"text-align: center; font-weight: bold; color: #746bb3ff;\">Les Bases De Python</span></H1>\n",
    "</center>"
   ]
  },
  {
   "cell_type": "markdown",
   "id": "b2e95ccf",
   "metadata": {},
   "source": [
    "<code>*Dans ces labs, vous découvrirez et maîtriserez les fondamentaux du langage Python, notamment la syntaxe de base, les types de données, les structures de contrôle (conditions, boucles), les fonctions et la gestion des modules. Vous apprendrez également à manipuler des collections (listes, dictionnaires, ensembles), à lire et écrire des fichiers, et à utiliser les environnements virtuels. Ces compétences vous permettront de développer vos premiers scripts et d’acquérir une base solide pour aborder des projets plus avancés en intelligence artificielle et en science des données.*</code>"
   ]
  },
  {
   "cell_type": "markdown",
   "id": "8333f40b",
   "metadata": {},
   "source": [
    "<H3><span style=\"font-weight: bold ; color: #19b7f1ff\">Les ressources: </span></H3> \n",
    "\n",
    "\n",
    "- **Conditions** : \n",
    "* [Python if/else Statements (Real Python)](https://realpython.com/python-conditional-statements/)  \n",
    "*  [Documentation officielle – if](https://docs.python.org/fr/3/tutorial/controlflow.html#if-statements-and-expressions)\n",
    "\n",
    "- **Boucles** : \n",
    "* [Python Loops (Real Python)](https://realpython.com/python-for-loop/)  \n",
    "*  [Documentation officielle – for](https://docs.python.org/fr/3/tutorial/controlflow.html#for-statements)\n",
    "\n",
    "- **Try/Except** : \n",
    "* [Python Exceptions (Real Python)](https://realpython.com/python-exceptions/)  \n",
    "*  [Documentation officielle – exceptions](https://docs.python.org/fr/3/tutorial/errors.html#handling-exceptions)\n"
   ]
  },
  {
   "cell_type": "markdown",
   "id": "ab1d155d",
   "metadata": {},
   "source": [
    "<H3><span style=\"font-weight: bold; color: #1a8bcdff;\">Challenge 1 : Présentation personnalisée</span></H3>\n",
    "\n",
    "1. <span style=\"font-weight: bold; color: #e56922ff;\">Objectif</span> : </br>\n",
    "Apprendre à utiliser la fonction input() pour interagir avec l’utilisateur et afficher une sortie personnalisée avec print().\n",
    "\n",
    "2. <span style=\"font-weight: bold; color: #e56922ff;\">Travail à faire</span>:</br>\n",
    "Écris un programme qui demande à l’utilisateur son prénom et son âge, puis affiche un message personnalisé indiquant son prénom et son âge."
   ]
  },
  {
   "cell_type": "code",
   "execution_count": null,
   "id": "751431f3",
   "metadata": {},
   "outputs": [],
   "source": [
    "nom = input(\"Entrez votre nom : \")\n",
    "age = int(input(\"Entrez votre age\"))\n",
    "\n",
    "print(\"Votre nom est : \" , nom , \"Et votre age est : \" , age)\n",
    "\n"
   ]
  },
  {
   "cell_type": "markdown",
   "id": "e313a8c6",
   "metadata": {},
   "source": [
    "<H3><span style=\"font-weight: bold; color: #1a8bcdff;\">Challenge  2 : Calcul de salaire avec heures supplémentaires</span></H3>\n",
    "\n",
    "1. <span style=\"font-weight: bold; color: #e56922ff;\">Objectif</span> : </br>\n",
    "Travailler la saisie de données utilisateur, les conversions de types, les conditions (if), et les opérations arithmétiques pour simuler un cas réel de calcul de paie. \n",
    "\n",
    "2. <span style=\"font-weight: bold; color: #e56922ff;\">Travail à faire</span>:</br>\n",
    "* Écris un programme qui récupère les informations suivantes depuis l’entrée utilisateur : son nom, son salaire horaire et le nombre d’heures qu’il a travaillées.\n",
    "* Si le nombre d’heures travaillées dépasse 40 heures, les heures au-delà de 40 seront considérées comme des heures supplémentaires et rémunérées à 1,5 fois le salaire horaire normal.\n",
    "* Le programme doit alors calculer le salaire total (salaire régulier + éventuelles heures supplémentaires).\n",
    "Enfin, affiche le nom de l’utilisateur ainsi que son salaire total calculé."
   ]
  },
  {
   "cell_type": "code",
   "execution_count": null,
   "id": "93ec144e",
   "metadata": {},
   "outputs": [],
   "source": [
    "nom = input(\"Entrez votre nom : \")\n",
    "shr= float(input(\"Entrez votre salaire horaire : \" ))\n",
    "nbrHr = int(input(\"Entrez les heures de travail : \"))\n",
    "\n",
    "if nbrHr > 40 :\n",
    "    hrA = nbrHr - 40\n",
    "    remun = hrA * shr * 1.5\n",
    "    salaireReg = (shr * 40) + remun\n",
    "    print(\"Votre salaire est : \" ,salaireReg)\n",
    "else :\n",
    "    salaireReg = shr * nbrHr\n",
    "    print(\"Votre salaire est : \" ,salaireReg)\n"
   ]
  },
  {
   "cell_type": "markdown",
   "id": "9e2e052e",
   "metadata": {},
   "source": [
    "<H3><span style=\"font-weight: bold; color: #1a8bcdff;\">Challenge 3 :  Gestion des erreurs utilisateur</span></H3>\n",
    "\n",
    "1. <span style=\"font-weight: bold; color: #e56922ff;\">Objectif</span> : </br>\n",
    "Introduire les blocs try / except afin de rendre le programme plus robuste face aux erreurs de saisie (par exemple, texte au lieu de nombres).\n",
    "\n",
    "\n",
    "2. <span style=\"font-weight: bold; color: #e56922ff;\">Travail à faire</span>:</br>\n",
    "Réécris ton programme de calcul de salaire en utilisant try et except afin que le programme gère proprement les entrées non numériques en affichant un message d’erreur puis en quittant le programme."
   ]
  },
  {
   "cell_type": "code",
   "execution_count": null,
   "id": "a83ebcec",
   "metadata": {},
   "outputs": [],
   "source": [
    "nom = input(\"Entrez votre nom : \")\n",
    "try :\n",
    "    shr= float(input(\"Entrez votre salaire horaire : \" ))\n",
    "    nbrHr = int(input(\"Entrez les heures de travail : \"))\n",
    "    if nbrHr > 40 :\n",
    "        hrA = nbrHr - 40\n",
    "        remun = hrA * shr * 1.5\n",
    "        salaireReg = (shr * 40) + remun\n",
    "        print(\"Votre salaire est : \" ,salaireReg)\n",
    "    else :\n",
    "        salaireReg = shr * nbrHr\n",
    "        print(\"Votre salaire est : \" ,salaireReg)\n",
    "except :\n",
    "    print(\"Oops!  That was no valid number.  Try again...\")\n",
    "\n",
    "\n"
   ]
  },
  {
   "cell_type": "markdown",
   "id": "7b34c3c1",
   "metadata": {},
   "source": [
    "<H3><span style=\"font-weight: bold; color: #1a8bcdff;\">Challenge 4 : Déterminer le signe d’un produit de deux nombres</span></H3>\n",
    "\n",
    "1. <span style=\"font-weight: bold; color: #e56922ff;\">Objectif</span> : </br>\n",
    " Amener l’apprenant à manipuler les entrées utilisateur, les conditions (if/elif/else) et la logique mathématique pour déterminer le signe du produit de deux nombres.\n",
    "\n",
    "\n",
    "2. <span style=\"font-weight: bold; color: #e56922ff;\">Travail à faire</span>:</br>\n",
    "Écrire un programme en Python qui demande à l'utilisateur deux nombres n1 et n2 et lui indique ensuite si le produit de ces deux nombres est positif ou négatif. On prévoit dans le programme le cas où le produit peut être nul."
   ]
  },
  {
   "cell_type": "code",
   "execution_count": 1,
   "id": "91115272",
   "metadata": {},
   "outputs": [
    {
     "name": "stdout",
     "output_type": "stream",
     "text": [
      "Le produit de ces deux nombres est négatif\n"
     ]
    }
   ],
   "source": [
    "n1 = int(input(\"Entrez le premier nombre : \"))\n",
    "n2 = int(input(\"Entrez le deuxieme nombre\"))\n",
    "produit = n1*n2\n",
    "if produit < 0 :\n",
    "    print(\"Le produit de ces deux nombres est négatif\")\n",
    "else :\n",
    "    print(\"Le produit de ces deux nombres est positif\")\n"
   ]
  },
  {
   "cell_type": "markdown",
   "id": "e765cc2b",
   "metadata": {},
   "source": [
    "<H3><span style=\"font-weight: bold; color: #1a8bcdff;\">Challenge 5 : Somme d’entiers</span></H3>\n",
    "\n",
    "1. <span style=\"font-weight: bold; color: #e56922ff;\">Objectif</span> : </br>\n",
    "Apprendre à utiliser la boucle while pour répéter une opération jusqu’à une condition donnée.\n",
    "\n",
    "\n",
    "2. <span style=\"font-weight: bold; color: #e56922ff;\">Travail à faire</span>:</br>\n",
    "Ecrivez un programme en Python qui calcule la somme de 1 à N, où N est saisi par l'utilisateur. En utilisant la boucle \"while\"."
   ]
  },
  {
   "cell_type": "code",
   "execution_count": 7,
   "id": "0de1f6c4",
   "metadata": {},
   "outputs": [
    {
     "name": "stdout",
     "output_type": "stream",
     "text": [
      "La somme de 0 à 5 est 15\n"
     ]
    }
   ],
   "source": [
    "n = int(input(\"Entrer un nombre\"))\n",
    "i = 1\n",
    "sum=0\n",
    "while i<=n :\n",
    "    sum+=i\n",
    "    i+=1\n",
    "print(f\"La somme de 0 à {n} est {sum}\")\n"
   ]
  },
  {
   "cell_type": "markdown",
   "id": "7082952c",
   "metadata": {},
   "source": [
    "<H3><span style=\"font-weight: bold; color: #1a8bcdff;\">Challenge 6 : Inverser une chaîne</span></H3>\n",
    "\n",
    "1. <span style=\"font-weight: bold; color: #e56922ff;\">Objectif</span> : </br>\n",
    "Comprendre la manipulation de chaînes de caractères et l’usage de la boucle while pour parcourir une chaîne en sens inverse.\n",
    "\n",
    "\n",
    "2. <span style=\"font-weight: bold; color: #e56922ff;\">Travail à faire</span>:</br>\n",
    " * Écrire un programme en Python qui inverse une chaîne de caractères en utilisant une boucle while.\n",
    " * Écrire un programme en Python qui inverse une chaîne de caractères en utilisant une boucle while.\n",
    " * Exemple: Chaîne originale: DevAI ==>\n",
    "   Chaîne inversée: IAveD"
   ]
  },
  {
   "cell_type": "code",
   "execution_count": 10,
   "id": "814c2390",
   "metadata": {},
   "outputs": [
    {
     "name": "stdout",
     "output_type": "stream",
     "text": [
      "IAveD\n"
     ]
    }
   ],
   "source": [
    "chaine = input(\"Entrez une chaine de caractere\")\n",
    "chaineinverse=\"\"\n",
    "i=len(chaine)-1\n",
    "while i>=0 :\n",
    "    chaineinverse+=chaine[i]\n",
    "    i=i-1\n",
    "print(chaineinverse)"
   ]
  },
  {
   "cell_type": "markdown",
   "id": "0c27da2e",
   "metadata": {},
   "source": [
    "<H3><span style=\"font-weight: bold; color: #1a8bcdff;\">Challenge 7 : Calcul de distance entre deux points</span></H3>\n",
    "\n",
    "1. <span style=\"font-weight: bold; color: #e56922ff;\">Objectif</span> : </br>\n",
    "Apprendre à manipuler les nombres flottants et à appliquer une formule mathématique en Python. Cet exercice permet d’utiliser l’entrée utilisateur <code>(input())</code>, la conversion de types <code>(float())</code>, et la fonction <code>math.sqrt()</code> pour calculer la distance euclidienne entre deux points \n",
    "<code>(x1,y1)(x1​,y1​)</code> et <code>(x2,y2)(x2​,y2​)</code>.\n",
    "\n",
    "2. <span style=\"font-weight: bold; color: #e56922ff;\">Travail à faire</span>:</br>\n",
    "Écrire un programme Python pour calculer la distance entre deux points. \n",
    "\n",
    "$$\n",
    "\\sqrt{(x_2 - x_1)^2 + (y_2 - y_1)^2}\n",
    "$$"
   ]
  },
  {
   "cell_type": "code",
   "execution_count": null,
   "id": "badf25ba",
   "metadata": {},
   "outputs": [],
   "source": []
  },
  {
   "cell_type": "code",
   "execution_count": 11,
   "id": "1d34f939",
   "metadata": {},
   "outputs": [
    {
     "name": "stdout",
     "output_type": "stream",
     "text": [
      "1.4142135623730951\n"
     ]
    }
   ],
   "source": [
    "import math \n",
    "x1 = float(input(\"Entrez x1\"))\n",
    "x2 = float(input(\"Entrez x2\"))\n",
    "y1 = float(input(\"Entrez y1\"))\n",
    "y2 = float(input(\"Entrez y2\"))\n",
    "\n",
    "distance = math.sqrt((x2-x1)**2 + (y2-y1)**2)\n",
    "print(distance)\n",
    "\n"
   ]
  },
  {
   "cell_type": "markdown",
   "id": "6685b3ac",
   "metadata": {},
   "source": []
  }
 ],
 "metadata": {
  "kernelspec": {
   "display_name": "Python 3",
   "language": "python",
   "name": "python3"
  },
  "language_info": {
   "codemirror_mode": {
    "name": "ipython",
    "version": 3
   },
   "file_extension": ".py",
   "mimetype": "text/x-python",
   "name": "python",
   "nbconvert_exporter": "python",
   "pygments_lexer": "ipython3",
   "version": "3.13.7"
  }
 },
 "nbformat": 4,
 "nbformat_minor": 5
}
